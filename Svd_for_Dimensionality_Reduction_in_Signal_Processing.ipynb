{
  "nbformat": 4,
  "nbformat_minor": 0,
  "metadata": {
    "colab": {
      "provenance": [],
      "authorship_tag": "ABX9TyPqFmwQnQz0aSzWbf4UKlLa",
      "include_colab_link": true
    },
    "kernelspec": {
      "name": "python3",
      "display_name": "Python 3"
    },
    "language_info": {
      "name": "python"
    }
  },
  "cells": [
    {
      "cell_type": "markdown",
      "metadata": {
        "id": "view-in-github",
        "colab_type": "text"
      },
      "source": [
        "<a href=\"https://colab.research.google.com/github/gpensabem/Learnings/blob/main/Svd_for_Dimensionality_Reduction_in_Signal_Processing.ipynb\" target=\"_parent\"><img src=\"https://colab.research.google.com/assets/colab-badge.svg\" alt=\"Open In Colab\"/></a>"
      ]
    },
    {
      "cell_type": "code",
      "execution_count": null,
      "metadata": {
        "id": "06aq_JDtMU3l"
      },
      "outputs": [],
      "source": [
        "import numpy as np\n",
        "import matplotlib.pyplot as plt\n",
        "from scipy.linalg import svd\n",
        "from scipy.io import wavfile\n",
        "from google.colab import drive\n",
        "drive.mount('/content/drive')\n",
        "\n",
        "# Função para criar janelas sobrepostas de um sinal\n",
        "def create_overlapping_windows(signal, window_size, overlap):\n",
        "    step = window_size - overlap\n",
        "    windows = []\n",
        "    for i in range(0, len(signal) - window_size + 1, step):\n",
        "        windows.append(signal[i:i+window_size])\n",
        "    return np.array(windows)\n",
        "\n",
        "# Carregar o sinal de áudio (exemplo de um arquivo WAV)\n",
        "# Nota: Substitua 'path_to_file.wav' pelo caminho para seu arquivo de áudio\n",
        "sample_rate, signal = wavfile.read('/content/drive/MyDrive/Aprendizados/Voicy_beep-de-censura.wav')\n",
        "\n",
        "# Normalizar o sinal\n",
        "signal = signal / np.max(np.abs(signal))\n",
        "\n",
        "# Definir os parâmetros para a janela\n",
        "window_size = 1024\n",
        "overlap = 512\n",
        "\n",
        "# Criar a matriz de janelas sobrepostas\n",
        "A = create_overlapping_windows(signal, window_size, overlap)\n",
        "\n",
        "# Aplicar SVD\n",
        "U, S, VT = svd(signal)\n",
        "\n",
        "# Selecionar o número de componentes principais\n",
        "k = 50  # Você pode ajustar isso conforme necessário\n",
        "\n",
        "# Truncar as matrizes\n",
        "U_k = U[:, :k]\n",
        "S_k = np.diag(S[:k])\n",
        "VT_k = VT[:k, :]\n",
        "\n",
        "# Reconstruir a matriz aproximada\n",
        "A_k = np.dot(U_k, np.dot(S_k, VT_k))\n",
        "\n",
        "# Converter a matriz aproximada de volta ao sinal\n",
        "filtered_signal = np.zeros(len(signal))\n",
        "count = np.zeros(len(signal))\n",
        "\n",
        "step = window_size - overlap\n",
        "for i in range(A_k.shape[0]):\n",
        "    filtered_signal[i*step:i*step+window_size] += A_k[i]\n",
        "    count[i*step:i*step+window_size] += 1\n",
        "\n",
        "filtered_signal /= count\n",
        "\n",
        "# Normalizar o sinal filtrado\n",
        "filtered_signal = filtered_signal / np.max(np.abs(filtered_signal))\n",
        "\n",
        "# Exibir o sinal original e o sinal filtrado\n",
        "plt.figure(figsize=(14, 6))\n",
        "plt.subplot(2, 1, 1)\n",
        "plt.plot(signal)\n",
        "plt.title('Sinal Original')\n",
        "plt.subplot(2, 1, 2)\n",
        "plt.plot(filtered_signal)\n",
        "plt.title('Sinal Filtrado com SVD')\n",
        "plt.show()\n",
        "\n",
        "# Salvar o sinal filtrado em um arquivo WAV (opcional)\n",
        "wavfile.write('filtered_signal.wav', sample_rate, (filtered_signal * 32767).astype(np.int16))\n"
      ]
    }
  ]
}